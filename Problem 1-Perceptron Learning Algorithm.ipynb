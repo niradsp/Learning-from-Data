{
 "cells": [
  {
   "cell_type": "code",
   "execution_count": 1,
   "metadata": {
    "collapsed": true
   },
   "outputs": [],
   "source": [
    "import numpy as np\n",
    "import numpy.random as rand\n",
    "import matplotlib.pyplot as plt"
   ]
  },
  {
   "cell_type": "markdown",
   "metadata": {},
   "source": [
    "<b>Question 3 </b> "
   ]
  },
  {
   "cell_type": "code",
   "execution_count": 2,
   "metadata": {},
   "outputs": [
    {
     "name": "stdout",
     "output_type": "stream",
     "text": [
      "0.6674842896411612\n"
     ]
    }
   ],
   "source": [
    "a=['r','b']\n",
    "b=['b','b']\n",
    "c=rand.randint(low=0,high=2,size=1000000)\n",
    "sm=0\n",
    "total=0\n",
    "for i in c:\n",
    "    if i==0:\n",
    "        d=rand.randint(2);\n",
    "        if d==1: total=total+1\n",
    "    elif i==1: \n",
    "        sm=sm+1\n",
    "        total=total+1\n",
    "print(sm/total)"
   ]
  },
  {
   "cell_type": "markdown",
   "metadata": {},
   "source": [
    "<b>Question 4 </b>"
   ]
  },
  {
   "cell_type": "code",
   "execution_count": 3,
   "metadata": {},
   "outputs": [
    {
     "name": "stdout",
     "output_type": "stream",
     "text": [
      "0.00025\n"
     ]
    }
   ],
   "source": [
    "marbles=['red','blue']\n",
    "total=0\n",
    "for i in range(100000):\n",
    "    vals=rand.choice(marbles,size=10,p=[0.55,0.45])\n",
    "    if \"red\" not in vals:\n",
    "        total=total+1\n",
    "print(total/100000)\n",
    "    \n"
   ]
  },
  {
   "cell_type": "markdown",
   "metadata": {},
   "source": [
    "<b> Question 5 </b>"
   ]
  },
  {
   "cell_type": "code",
   "execution_count": 4,
   "metadata": {},
   "outputs": [
    {
     "name": "stdout",
     "output_type": "stream",
     "text": [
      "0.306\n"
     ]
    }
   ],
   "source": [
    "ct=0\n",
    "for j in range(1000):\n",
    "    for i in range(1000):\n",
    "        vals=rand.choice(marbles,size=10,p=[0.55,0.45])\n",
    "        if \"red\" not in vals:\n",
    "            ct=ct+1\n",
    "            break\n",
    "print(ct/1000)"
   ]
  },
  {
   "cell_type": "markdown",
   "metadata": {
    "collapsed": true
   },
   "source": [
    "## The Perceptron Learning Algorithm\n",
    "Weights as follows:\n",
    "y2-y1/x2-x1=m <br>\n",
    "y2-y1-mx2+mx1=0 <br>\n",
    "w0=mx1-y1<br>\n",
    "w1=-m<br>\n",
    "w2=1"
   ]
  },
  {
   "cell_type": "code",
   "execution_count": 5,
   "metadata": {
    "collapsed": true
   },
   "outputs": [],
   "source": [
    "def testset(n):\n",
    "    testset=np.zeros((n,3))\n",
    "    for i in range(n):\n",
    "        testset[i,0]=1\n",
    "        testset[i,1]=rand.uniform(-1,1)\n",
    "        testset[i,2] =rand.uniform(-1,1)\n",
    "    return testset\n",
    "    "
   ]
  },
  {
   "cell_type": "code",
   "execution_count": 6,
   "metadata": {
    "collapsed": true
   },
   "outputs": [],
   "source": [
    "def trainingset(n):\n",
    "    \n",
    "    x1=rand.uniform(0,1,size=1)\n",
    "    y1=rand.uniform(0,1,size=1)\n",
    "    x2=rand.uniform(-1,0,size=1)\n",
    "    y2=rand.uniform(-1,0,size=1)\n",
    "    x=np.array([x1,x2])\n",
    "    y=np.array([y1,y2])\n",
    "    m,b=np.polyfit(x.flatten(),y.flatten(),1)\n",
    "    %matplotlib inline\n",
    "    w0=(m*x2)-y2\n",
    "    w1=-m\n",
    "    w2=1\n",
    "    actual_weights=np.zeros((3,1))\n",
    "    actual_weights[0:3,0:1]=np.array([w0,w1,w2]).reshape((3,1))\n",
    "    plus=[]\n",
    "    minus=[]\n",
    "    weights=np.array([w0,w1,w2])\n",
    "    random_x=rand.uniform(-1,1,size=n)\n",
    "    random_y=rand.uniform(-1,1,size=n)\n",
    "    onez=[1 for x in range(n)]\n",
    "    data=np.array([onez,random_x,random_y]).T\n",
    "    yval=np.zeros((n,1))\n",
    "    plusx=[]\n",
    "    plusy=[]\n",
    "    minusx=[]\n",
    "    minusy=[]\n",
    "    vals=np.dot(data,weights)\n",
    "    for i in range(n):\n",
    "        if vals[i]>0: \n",
    "            plusx.append(random_x[i])\n",
    "            plusy.append(random_y[i])\n",
    "            yval[i]=1\n",
    "        else:\n",
    "            minusx.append(random_x[i])\n",
    "            minusy.append(random_y[i])\n",
    "            yval[i]=-1\n",
    "   # plt.plot(x,y)\n",
    "    #plt.scatter(plusx,plusy,marker='+')\n",
    "    #plt.scatter(minusx,minusy,marker='o')\n",
    "    dats=np.zeros((n,4))\n",
    "    dats[0:n,0:3]=data\n",
    "    dats[0:n,3:4]=yval\n",
    "    \n",
    "    return actual_weights,dats"
   ]
  },
  {
   "cell_type": "code",
   "execution_count": 7,
   "metadata": {
    "collapsed": true
   },
   "outputs": [],
   "source": [
    "def train(data,actual_weights,n):\n",
    "    features=data[0:n,0:3]\n",
    "    actual_y=data[0:n,3:4]\n",
    "    predicted_y=np.zeros((n,1))\n",
    "    initial_weights=np.zeros((3,1))\n",
    "    ct=0\n",
    "    size=n\n",
    "    mismatch=[x for x in range(n) if actual_y[x]!=predicted_y[x]]\n",
    "    while(size>0 and ct<1000):\n",
    "        m=rand.choice(mismatch)\n",
    "        initial_weights=initial_weights.T\n",
    "        initial_weights=initial_weights+actual_y[m]*features[m]\n",
    "        initial_weights=initial_weights.T\n",
    "        predicted_y=np.sign(np.dot(features,initial_weights))\n",
    "        mismatch=[x for x in range(n) if actual_y[x]!=predicted_y[x]]\n",
    "        size=len(mismatch)\n",
    "        ct=ct+1\n",
    "\n",
    "            \n",
    "    final_weights=initial_weights\n",
    "    return final_weights,ct\n",
    "        "
   ]
  },
  {
   "cell_type": "markdown",
   "metadata": {},
   "source": [
    " The simple function below can be used to  calculate both the Actual target data (y) as well as the Predicted target data given  the Weights"
   ]
  },
  {
   "cell_type": "code",
   "execution_count": 8,
   "metadata": {
    "collapsed": true
   },
   "outputs": [],
   "source": [
    "def predict(data,weights,m):\n",
    "    features=data\n",
    "    predicted_y=np.dot(features,weights)\n",
    "    predicted_y=np.sign(predicted_y)\n",
    "    return predicted_y"
   ]
  },
  {
   "cell_type": "markdown",
   "metadata": {},
   "source": [
    "Run the entire algorithm given the training set given by n"
   ]
  },
  {
   "cell_type": "code",
   "execution_count": null,
   "metadata": {
    "collapsed": true
   },
   "outputs": [],
   "source": [
    "def Run_Perceptron(n):\n",
    "    \n",
    "    sm=0\n",
    "    ct=0\n",
    "    loopcount=0\n",
    "    while loopcount<1000:\n",
    "        actual_weights,data=trainingset(n)\n",
    "        final_weights,counter=train(data,actual_weights,n)\n",
    "        if counter>=1000: continue\n",
    "        ct=ct+counter\n",
    "        m=1000\n",
    "        testdata=testset(m)\n",
    "        y_actual=predict(testdata,actual_weights,m)\n",
    "        y_predicted=predict(testdata,final_weights,m)\n",
    "        mismatch=[x for x in range(m) if y_actual[x]!=y_predicted[x]]\n",
    "        mismatches=len(mismatch)/1000\n",
    "        sm=sm+mismatches\n",
    "        loopcount=loopcount+1\n",
    "\n",
    "\n",
    "        #predict the weights. Also find out the number of iterations for the algorithm to converge\n",
    "\n",
    "    print(ct/1000,sm/1000)\n",
    "    print(\"Final Predicted Weights\",final_weights)\n",
    "    print(\"Actual Weights\", actual_weights)\n",
    "\n",
    "    "
   ]
  },
  {
   "cell_type": "markdown",
   "metadata": {},
   "source": [
    "## Questions 7 and 8"
   ]
  },
  {
   "cell_type": "code",
   "execution_count": null,
   "metadata": {},
   "outputs": [],
   "source": [
    "Run_Perceptron(10)"
   ]
  },
  {
   "cell_type": "markdown",
   "metadata": {},
   "source": [
    "## Questions 9 and 10"
   ]
  },
  {
   "cell_type": "code",
   "execution_count": null,
   "metadata": {},
   "outputs": [],
   "source": [
    "Run_Perceptron(100)"
   ]
  },
  {
   "cell_type": "code",
   "execution_count": null,
   "metadata": {
    "collapsed": true
   },
   "outputs": [],
   "source": []
  }
 ],
 "metadata": {
  "kernelspec": {
   "display_name": "Python 3",
   "language": "python",
   "name": "python3"
  },
  "language_info": {
   "codemirror_mode": {
    "name": "ipython",
    "version": 3
   },
   "file_extension": ".py",
   "mimetype": "text/x-python",
   "name": "python",
   "nbconvert_exporter": "python",
   "pygments_lexer": "ipython3",
   "version": "3.5.3"
  }
 },
 "nbformat": 4,
 "nbformat_minor": 2
}
