{
 "cells": [
  {
   "cell_type": "markdown",
   "metadata": {},
   "source": [
    "# Homework 2"
   ]
  },
  {
   "cell_type": "code",
   "execution_count": 1,
   "metadata": {
    "collapsed": true
   },
   "outputs": [],
   "source": [
    "import numpy as np\n",
    "from numpy import random as rand\n",
    "import matplotlib.pyplot  as plt"
   ]
  },
  {
   "cell_type": "markdown",
   "metadata": {},
   "source": [
    "### Question 1"
   ]
  },
  {
   "cell_type": "code",
   "execution_count": 2,
   "metadata": {},
   "outputs": [
    {
     "name": "stdout",
     "output_type": "stream",
     "text": [
      "0\n",
      "10000\n",
      "20000\n",
      "30000\n",
      "40000\n",
      "50000\n",
      "60000\n",
      "70000\n",
      "80000\n",
      "90000\n"
     ]
    }
   ],
   "source": [
    "v1=0\n",
    "vmin=0\n",
    "vrand=0\n",
    "v1dist=np.zeros((100000,1))\n",
    "vmindist=np.zeros((100000,1))\n",
    "vranddist=np.zeros((100000,1))\n",
    "for k in range(100000):\n",
    "    \n",
    "    c1=[]\n",
    "    cmin=[]\n",
    "    crand=[]\n",
    "    current=[]\n",
    "    randomno=rand.randint(0,1000,size=1)\n",
    "    for i in range(1000):\n",
    "        current=rand.randint(0,2,size=10)\n",
    "        if i==0:\n",
    "            c1=current\n",
    "        if i==randomno:\n",
    "            crand=current\n",
    "        \n",
    "        if len(cmin)==0:\n",
    "            cmin=current\n",
    "        else:\n",
    "            if np.count_nonzero(current)<np.count_nonzero(cmin):\n",
    "                cmin=current\n",
    "    vmindist[k]=(np.count_nonzero(cmin)/10)\n",
    "    v1dist[k]=(np.count_nonzero(c1)/10)\n",
    "    vranddist[k]=(np.count_nonzero(crand)/10)\n",
    "   # c1dist[k]=c1\n",
    "    #cmindist[k]=cmin\n",
    "    #cranddist[k]=crand\n",
    "    if k%10000==0: print(k)\n",
    "\n",
    "        "
   ]
  },
  {
   "cell_type": "code",
   "execution_count": 3,
   "metadata": {},
   "outputs": [
    {
     "name": "stdout",
     "output_type": "stream",
     "text": [
      "0.037498\n"
     ]
    }
   ],
   "source": [
    "print(np.mean(vmindist))"
   ]
  },
  {
   "cell_type": "markdown",
   "metadata": {},
   "source": [
    "### Question 2"
   ]
  },
  {
   "cell_type": "markdown",
   "metadata": {},
   "source": [
    "V1 and Vrand are virtually overlapping in the plot below"
   ]
  },
  {
   "cell_type": "code",
   "execution_count": 4,
   "metadata": {},
   "outputs": [
    {
     "data": {
      "image/png": "[encoded data removed]",
      "text/plain": [
       "<matplotlib.figure.Figure at 0x17bf2726c88>"
      ]
     },
     "metadata": {},
     "output_type": "display_data"
    }
   ],
   "source": [
    "%matplotlib inline\n",
    "mu=0.5\n",
    "N=10\n",
    "epsilon=np.arange(0,1.1,0.001)\n",
    "length=len(epsilon)\n",
    "right=2*np.exp(-2*(epsilon)**2*N)\n",
    "vrandplotdata=np.zeros((length,1))\n",
    "vminplotdata=np.zeros((length,1))\n",
    "v1plotdata=np.zeros((length,1))\n",
    "for i in range(length):\n",
    "    probv1=abs(v1dist-mu)>epsilon[i]\n",
    "    v1plotdata[i]=np.mean(probv1)\n",
    "    probvmin=abs(vmindist-mu)>epsilon[i]\n",
    "    vminplotdata[i]=np.mean(probvmin)\n",
    "    probvrand=abs(vranddist-mu)>epsilon[i]\n",
    "    vrandplotdata[i]=np.mean(probvrand)\n",
    "plt.plot(epsilon,right,label=\"RHS\")\n",
    "plt.plot(epsilon,v1plotdata,label=\"V1\",linestyle=\"--\",alpha=3,color=\"black\")\n",
    "plt.plot(epsilon,vminplotdata,label=\"Vmin\")\n",
    "plt.plot(epsilon,vrandplotdata,label=\"Vrand\",color=\"red\",marker=\"*\",alpha=0.5)\n",
    "plt.legend()\n",
    "plt.xlabel(\"Epsilon\")\n",
    "plt.ylabel(\"Probability/RHS\")\n",
    "plt.show()\n"
   ]
  },
  {
   "cell_type": "markdown",
   "metadata": {},
   "source": [
    "### Question 5"
   ]
  },
  {
   "cell_type": "code",
   "execution_count": 5,
   "metadata": {
    "collapsed": true
   },
   "outputs": [],
   "source": [
    "def dataset(n):\n",
    "    testset=np.zeros((n,3))\n",
    "    for i in range(n):\n",
    "        testset[i,0]=1\n",
    "        testset[i,1]=rand.uniform(-1,1)\n",
    "        testset[i,2] =rand.uniform(-1,1)\n",
    "    return testset\n",
    "    "
   ]
  },
  {
   "cell_type": "code",
   "execution_count": 6,
   "metadata": {
    "collapsed": true
   },
   "outputs": [],
   "source": [
    "def predict(data,weights):\n",
    "    features=data\n",
    "    predicted_y=np.dot(features,weights)\n",
    "    predicted=np.sign(predicted_y)\n",
    "    return predicted"
   ]
  },
  {
   "cell_type": "code",
   "execution_count": 7,
   "metadata": {
    "collapsed": true
   },
   "outputs": [],
   "source": [
    "def trainingweights():\n",
    "    \n",
    "    x1=rand.uniform(0,1,size=1)\n",
    "    y1=rand.uniform(0,1,size=1)\n",
    "    x2=rand.uniform(-1,0,size=1)\n",
    "    y2=rand.uniform(-1,0,size=1)\n",
    "    x=np.array([x1,x2])\n",
    "    y=np.array([y1,y2])\n",
    "    m,b=np.polyfit(x.flatten(),y.flatten(),1)\n",
    "    w0=(m*x2)-y2\n",
    "    w1=-m\n",
    "    w2=1\n",
    "    actual_weights=np.zeros((3,1))\n",
    "    actual_weights[0:3,0:1]=np.array([w0,w1,w2]).reshape((3,1))\n",
    "    return actual_weights"
   ]
  },
  {
   "cell_type": "code",
   "execution_count": 8,
   "metadata": {
    "collapsed": true
   },
   "outputs": [],
   "source": [
    "def train(n):\n",
    "    weights=trainingweights()\n",
    "    actual_weights=weights\n",
    "    features=dataset(n)\n",
    "    actual_y=predict(features,weights)\n",
    "    xtx=np.dot(features.T,features)\n",
    "    xtxinv=np.linalg.pinv(xtx)\n",
    "    xtxinvxt=np.dot(xtxinv,features.T)\n",
    "    xtxinvxty=np.dot(xtxinvxt,actual_y)\n",
    "    predicted_weights=xtxinvxty\n",
    "    return actual_weights,features,actual_y,predicted_weights"
   ]
  },
  {
   "cell_type": "code",
   "execution_count": 9,
   "metadata": {
    "collapsed": true
   },
   "outputs": [],
   "source": [
    "def run_linear_regression(n):\n",
    "    actual_weights,features,actual_y,predicted_weights=train(n)\n",
    "    predicted_y=predict(features,predicted_weights)\n",
    "    errors=np.mean(actual_y!=predicted_y)\n",
    "    \n",
    "    return errors"
   ]
  },
  {
   "cell_type": "code",
   "execution_count": 10,
   "metadata": {},
   "outputs": [
    {
     "name": "stdout",
     "output_type": "stream",
     "text": [
      "0.02843\n"
     ]
    }
   ],
   "source": [
    "errors=np.zeros((1000))\n",
    "for i in range(1000):\n",
    "    errors[i]=run_linear_regression(100)\n",
    "mean_error=np.mean(errors)\n",
    "print(mean_error)"
   ]
  },
  {
   "cell_type": "markdown",
   "metadata": {},
   "source": [
    "### Question 6"
   ]
  },
  {
   "cell_type": "code",
   "execution_count": 11,
   "metadata": {},
   "outputs": [
    {
     "name": "stdout",
     "output_type": "stream",
     "text": [
      "0.037289\n"
     ]
    }
   ],
   "source": [
    "sm=0\n",
    "n=1000\n",
    "#Train using N=100, just like in Question 5.  So this basically will replicate the Q 5 expriment.\n",
    "for i in range(1000):\n",
    "    actual_weights,features,initial_y,predicted_weights=train(100)    \n",
    "    #Generate a newdataset that the training algorithm has not seen yet\n",
    "    newdataset=dataset(n)\n",
    "    #Calculate the actual target using actual weights\n",
    "    actual_y=predict(newdataset,actual_weights)\n",
    "    #Calculate predicted target\n",
    "    predicted_y=predict(newdataset,predicted_weights)\n",
    "    \n",
    "    sm=sm+(np.mean(actual_y!=predicted_y))\n",
    "print(sm/1000)"
   ]
  },
  {
   "cell_type": "markdown",
   "metadata": {
    "collapsed": true
   },
   "source": [
    "### Question 7"
   ]
  },
  {
   "cell_type": "code",
   "execution_count": 12,
   "metadata": {
    "collapsed": true
   },
   "outputs": [],
   "source": [
    "def train_perceptron(data,actual_y,actual_weights,initial_weights, n):\n",
    "    features=data\n",
    "    predicted_y=np.zeros((n,1))\n",
    "    ct=0\n",
    "    size=n\n",
    "    mismatch=[x for x in range(n) if actual_y[x]!=predicted_y[x]]\n",
    "    while(size>0 and ct<1000):\n",
    "        m=rand.choice(mismatch)\n",
    "        initial_weights=initial_weights.T\n",
    "        initial_weights=initial_weights+actual_y[m]*features[m]\n",
    "        initial_weights=initial_weights.T\n",
    "        predicted_y=np.sign(np.dot(features,initial_weights))\n",
    "        mismatch=[x for x in range(n) if actual_y[x]!=predicted_y[x]]\n",
    "        size=len(mismatch)\n",
    "        ct=ct+1\n",
    "\n",
    "            \n",
    "    final_weights=initial_weights\n",
    "    return final_weights,ct"
   ]
  },
  {
   "cell_type": "code",
   "execution_count": 13,
   "metadata": {
    "scrolled": true
   },
   "outputs": [
    {
     "name": "stdout",
     "output_type": "stream",
     "text": [
      "6.108\n"
     ]
    }
   ],
   "source": [
    "sm=0\n",
    "counter=0\n",
    "while counter<1000:\n",
    "    n=10\n",
    "    actual_weights,features,actual_y,predicted_weights=train(n)\n",
    "    #errors=np.mean(actual_y!=predicted_y)\n",
    "    final_weights,ct=train_perceptron(features,actual_y,actual_weights,predicted_weights,n)\n",
    "    if ct>=100: continue\n",
    "    \n",
    "    sm=sm+ct\n",
    "    counter+=1\n",
    "\n",
    "print(sm/1000)"
   ]
  },
  {
   "cell_type": "markdown",
   "metadata": {},
   "source": [
    "### Question 8"
   ]
  },
  {
   "cell_type": "code",
   "execution_count": 14,
   "metadata": {
    "collapsed": true
   },
   "outputs": [],
   "source": [
    "def predict_2(data,weights):\n",
    "    features=data**2\n",
    "    predicted_y=np.dot(features,weights)\n",
    "    predicted=np.sign(predicted_y)\n",
    "    return predicted"
   ]
  },
  {
   "cell_type": "code",
   "execution_count": 15,
   "metadata": {
    "collapsed": true
   },
   "outputs": [],
   "source": [
    "def train_2(n):\n",
    "    weights=np.array([-0.6,1,1])\n",
    "    weights=weights.reshape(3,1)\n",
    "    actual_weights=weights\n",
    "    features=dataset(n)\n",
    "    actual_y=predict_2(features,weights)\n",
    "    noise_fraction=int(n/10)\n",
    "    random_noise=rand.choice(n,replace=False,size=noise_fraction)\n",
    "    for i in random_noise:\n",
    "        actual_y[i]=actual_y[i]*-1\n",
    "    \n",
    "    \n",
    "    xtx=np.dot(features.T,features)\n",
    "    xtxinv=np.linalg.pinv(xtx)\n",
    "    xtxinvxt=np.dot(xtxinv,features.T)\n",
    "    xtxinvxty=np.dot(xtxinvxt,actual_y)\n",
    "    predicted_weights=xtxinvxty\n",
    "    return actual_weights,features,actual_y,predicted_weights"
   ]
  },
  {
   "cell_type": "code",
   "execution_count": 16,
   "metadata": {},
   "outputs": [],
   "source": [
    "def run_linear_regression_2(n):\n",
    "    actual_weights,features,actual_y,predicted_weights=train_2(n)\n",
    "    predicted_y=predict(features,predicted_weights)\n",
    "    errors=np.mean(actual_y!=predicted_y)\n",
    "    \n",
    "    return errors"
   ]
  },
  {
   "cell_type": "code",
   "execution_count": 17,
   "metadata": {},
   "outputs": [
    {
     "name": "stdout",
     "output_type": "stream",
     "text": [
      "0.50337\n"
     ]
    }
   ],
   "source": [
    "errors=np.zeros((1000))\n",
    "for i in range(1000):\n",
    "    errors[i]=run_linear_regression_2(1000)\n",
    "mean_error=np.mean(errors)\n",
    "print(mean_error)"
   ]
  },
  {
   "cell_type": "markdown",
   "metadata": {},
   "source": [
    "###  Question 9"
   ]
  },
  {
   "cell_type": "code",
   "execution_count": 18,
   "metadata": {
    "collapsed": true
   },
   "outputs": [],
   "source": [
    "def train_3(n):\n",
    "    features=dataset(n)\n",
    "    weights=np.array([-0.6,1,1])\n",
    "    weights=weights.reshape(3,1)\n",
    "    actual_weights=weights\n",
    "    noise_fraction=int(n/10)\n",
    "    actual_y=predict_2(features,weights)\n",
    "\n",
    "    random_noise=rand.choice(n,replace=False,size=noise_fraction)\n",
    "    for i in random_noise:\n",
    "        actual_y[i]=actual_y[i]*-1\n",
    "    \n",
    "    features=np.append(features,(features[:,1]*features[:,2]).reshape(len(features),1),axis=1)\n",
    "    features=np.append(features,(features[:,1]*features[:,1]).reshape(len(features),1),axis=1)\n",
    "    features=np.append(features,(features[:,2]*features[:,2]).reshape(len(features),1),axis=1)\n",
    "    xtx=np.dot(features.T,features)\n",
    "    xtxinv=np.linalg.pinv(xtx)\n",
    "    xtxinvxt=np.dot(xtxinv,features.T)\n",
    "    xtxinvxty=np.dot(xtxinvxt,actual_y)\n",
    "    predicted_weights=xtxinvxty\n",
    "    return features,predicted_weights"
   ]
  },
  {
   "cell_type": "code",
   "execution_count": 19,
   "metadata": {},
   "outputs": [
    {
     "name": "stdout",
     "output_type": "stream",
     "text": [
      "[[ -9.91331904e-01]\n",
      " [  6.67539081e-05]\n",
      " [  6.14841535e-03]\n",
      " [  3.52738184e-03]\n",
      " [  1.55400083e+00]\n",
      " [  1.55829982e+00]]\n"
     ]
    }
   ],
   "source": [
    "sm=np.zeros((6,1))\n",
    "for i in range(100):\n",
    "    features,weights=train_3(1000)\n",
    "    sm+=weights\n",
    "sm=sm/100\n",
    "print(sm)"
   ]
  },
  {
   "cell_type": "markdown",
   "metadata": {},
   "source": [
    "The answer is the choice where the last two weights are closest to 1.5"
   ]
  },
  {
   "cell_type": "markdown",
   "metadata": {},
   "source": [
    "### Question 10"
   ]
  },
  {
   "cell_type": "code",
   "execution_count": 20,
   "metadata": {},
   "outputs": [
    {
     "name": "stdout",
     "output_type": "stream",
     "text": [
      "0.125889\n"
     ]
    }
   ],
   "source": [
    "sm=0\n",
    "for i in range(1000):   \n",
    "    features,predicted_weights=train_3(1000)\n",
    "    actual_weights=np.array([-0.6,1,1])\n",
    "    actual_weights=actual_weights.reshape(3,1)\n",
    "    n=1000\n",
    "    features=dataset(n)\n",
    "    actual_y=predict_2(features,actual_weights) \n",
    "    features=np.append(features,(features[:,1]*features[:,2]).reshape(len(features),1),axis=1)\n",
    "    features=np.append(features,(features[:,1]*features[:,1]).reshape(len(features),1),axis=1)\n",
    "    features=np.append(features,(features[:,2]*features[:,2]).reshape(len(features),1),axis=1)\n",
    "    noise_fraction=int(n/10)\n",
    "    random_noise=rand.choice(n,replace=False,size=noise_fraction)\n",
    "    for i in random_noise:\n",
    "        actual_y[i]=actual_y[i]*-1\n",
    "    predict_y=np.dot(features,predicted_weights)\n",
    "    predict_y=np.sign(predict_y)\n",
    "    sm=sm+(np.mean(actual_y!=predict_y))\n",
    "print(sm/1000)"
   ]
  },
  {
   "cell_type": "code",
   "execution_count": null,
   "metadata": {},
   "outputs": [],
   "source": []
  },
  {
   "cell_type": "code",
   "execution_count": null,
   "metadata": {
    "collapsed": true
   },
   "outputs": [],
   "source": []
  }
 ],
 "metadata": {
  "kernelspec": {
   "display_name": "Python 3",
   "language": "python",
   "name": "python3"
  },
  "language_info": {
   "codemirror_mode": {
    "name": "ipython",
    "version": 3
   },
   "file_extension": ".py",
   "mimetype": "text/x-python",
   "name": "python",
   "nbconvert_exporter": "python",
   "pygments_lexer": "ipython3",
   "version": "3.5.3"
  }
 },
 "nbformat": 4,
 "nbformat_minor": 2
}
